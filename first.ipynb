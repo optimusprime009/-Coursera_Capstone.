{
  "nbformat": 4,
  "nbformat_minor": 0,
  "metadata": {
    "colab": {
      "name": "Untitled12.ipynb",
      "provenance": [],
      "authorship_tag": "ABX9TyN93r1LAsMFm/fFLuvNzWQc",
      "include_colab_link": true
    },
    "kernelspec": {
      "name": "python3",
      "display_name": "Python 3"
    }
  },
  "cells": [
    {
      "cell_type": "markdown",
      "metadata": {
        "id": "view-in-github",
        "colab_type": "text"
      },
      "source": [
        "<a href=\"https://colab.research.google.com/github/optimusprime009/-Coursera_Capstone./blob/master/first.ipynb\" target=\"_parent\"><img src=\"https://colab.research.google.com/assets/colab-badge.svg\" alt=\"Open In Colab\"/></a>"
      ]
    },
    {
      "cell_type": "code",
      "metadata": {
        "id": "hR6jz5yNSM3a",
        "colab_type": "code",
        "colab": {}
      },
      "source": [
        "import pandas as pd\n",
        "import numpy as np"
      ],
      "execution_count": 0,
      "outputs": []
    },
    {
      "cell_type": "markdown",
      "metadata": {
        "id": "0wSiFQqhSuuY",
        "colab_type": "text"
      },
      "source": [
        "#First output of capstone prject"
      ]
    },
    {
      "cell_type": "code",
      "metadata": {
        "id": "RD2qC-qQSqeC",
        "colab_type": "code",
        "colab": {}
      },
      "source": [
        "print(Hello Capstone Project Course!)"
      ],
      "execution_count": 0,
      "outputs": []
    }
  ]
}